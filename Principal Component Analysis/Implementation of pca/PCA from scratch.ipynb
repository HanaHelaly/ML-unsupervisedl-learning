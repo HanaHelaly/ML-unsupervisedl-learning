{
 "cells": [
  {
   "cell_type": "code",
   "execution_count": 2,
   "metadata": {},
   "outputs": [],
   "source": [
    "import pandas as pd\n",
    "import numpy as np\n",
    "import matplotlib.pyplot as plt\n",
    "from sklearn.decomposition import PCA"
   ]
  },
  {
   "cell_type": "code",
   "execution_count": 3,
   "metadata": {},
   "outputs": [],
   "source": [
    "df = pd.read_csv('CC GENERAL.csv')\n",
    "df.drop('CUST_ID', axis=1, inplace=True)\n",
    "df['MINIMUM_PAYMENTS'] = df['MINIMUM_PAYMENTS'].fillna(df['MINIMUM_PAYMENTS'].mean())\n",
    "df = df.dropna(axis = 0, subset = ['CREDIT_LIMIT'])"
   ]
  },
  {
   "cell_type": "code",
   "execution_count": 4,
   "metadata": {},
   "outputs": [],
   "source": [
    "class PCA():\n",
    "    # Initialize PCA object\n",
    "    def __init__(self, n_components=0.95):\n",
    "        # Set the number of components\n",
    "        self.n_components = n_components\n",
    "        # Determine whether to use variance or variance ratio for component selection\n",
    "        if self.n_components > 1:\n",
    "            self.type = 'var'\n",
    "        else:\n",
    "            self.type = 'ratio'\n",
    "\n",
    "    # Fit PCA to the input data\n",
    "    def fit(self, X):\n",
    "        # Compute the mean and standard deviation of the input data\n",
    "        self.mean = np.mean(X, axis=0)\n",
    "        self.std = np.std(X, axis=0)\n",
    "        # Standardize the input data\n",
    "        X_standardized = (X - self.mean) / self.std\n",
    "        # Compute the covariance matrix\n",
    "        self.C = np.cov(X_standardized.T)\n",
    "        # Compute the eigenvectors and eigenvalues of the covariance matrix\n",
    "        eigen_values, eigen_vectors = np.linalg.eig(self.C)\n",
    "        # Sort eigenvalues and corresponding eigenvectors in descending order\n",
    "        idx_sort = eigen_values.argsort()[::-1]\n",
    "        eigen_values = eigen_values[idx_sort]\n",
    "        eigen_vectors = eigen_vectors[:, idx_sort]\n",
    "        # Determine the number of components based on the specified type\n",
    "        if self.type == 'ratio':\n",
    "            var_percentage = eigen_values / eigen_values.sum()\n",
    "            idx = np.where(np.cumsum(var_percentage) <= self.n_components)[0][-1]\n",
    "            self.eig_values = eigen_values[:idx+1]\n",
    "            self.components = eigen_vectors[:, :idx+1]\n",
    "        else:\n",
    "            self.eig_values = eigen_values[:self.n_components]\n",
    "            self.components = eigen_vectors[:, :self.n_components]\n",
    "        # Project the standardized input data onto the selected principal components\n",
    "        X_new = X_standardized @ self.components\n",
    "        return X_new\n",
    "\n",
    "    # Transform data using the fitted PCA model\n",
    "    def transform(self, Z):\n",
    "        # Standardize the input data using the mean and standard deviation computed during fitting\n",
    "        Z_standardized = (Z - self.mean) / self.std\n",
    "        # Project the standardized input data onto the selected principal components\n",
    "        Z_new = Z_standardized @ self.components\n",
    "        return Z_new\n",
    "\n",
    "    # Optional: Plot explained variance ratio\n",
    "    def plot_explained_variance(self):\n",
    "        # Compute eigenvalues and eigenvectors\n",
    "        eigen_values, _ = np.linalg.eig(self.C)\n",
    "        # Compute explained variance ratio\n",
    "        explained_var = eigen_values / eigen_values.sum()\n",
    "        # Plot cumulative explained variance\n",
    "        plt.bar(x=np.arange(1, (len(eigen_values))+1), height=np.cumsum(explained_var))\n",
    "        plt.xlabel('No of Components (PC)')\n",
    "        plt.ylabel('Explained variance')\n",
    "        plt.xlim((0.5, len(eigen_values)+0.5))\n",
    "        plt.xticks(np.arange(1, (len(eigen_values))+1))\n"
   ]
  },
  {
   "cell_type": "code",
   "execution_count": 5,
   "metadata": {},
   "outputs": [],
   "source": [
    "pca_section = PCA(n_components=0.95)\n",
    "X_transofmed = pca_section.fit(df.values)"
   ]
  },
  {
   "cell_type": "code",
   "execution_count": 6,
   "metadata": {},
   "outputs": [
    {
     "name": "stdout",
     "output_type": "stream",
     "text": [
      "(17, 11)\n"
     ]
    }
   ],
   "source": [
    "print(pca_section.components.shape)"
   ]
  },
  {
   "cell_type": "code",
   "execution_count": 7,
   "metadata": {},
   "outputs": [
    {
     "data": {
      "text/plain": [
       "(8949, 11)"
      ]
     },
     "execution_count": 7,
     "metadata": {},
     "output_type": "execute_result"
    }
   ],
   "source": [
    "pca_section.transform(df.values).shape"
   ]
  },
  {
   "cell_type": "code",
   "execution_count": 8,
   "metadata": {},
   "outputs": [
    {
     "data": {
      "image/png": "[encoded data removed]",
      "text/plain": [
       "<Figure size 640x480 with 1 Axes>"
      ]
     },
     "metadata": {},
     "output_type": "display_data"
    }
   ],
   "source": [
    "pca_section.plot_explained_variance()"
   ]
  },
  {
   "cell_type": "code",
   "execution_count": 9,
   "metadata": {},
   "outputs": [],
   "source": [
    "pca_sklearn = PCA(n_components=0.95)"
   ]
  },
  {
   "cell_type": "code",
   "execution_count": 10,
   "metadata": {},
   "outputs": [
    {
     "data": {
      "text/plain": [
       "array([[-1.68236038e+00,  1.07671953e+00, -4.90160162e-01, ...,\n",
       "         1.16143640e-01, -7.79243349e-02,  2.35213323e-01],\n",
       "       [-1.13896724e+00, -2.50611200e+00, -6.02490908e-01, ...,\n",
       "         6.89220415e-01, -7.77698972e-01,  8.71347842e-01],\n",
       "       [ 9.69377275e-01,  3.83426920e-01, -1.03995390e-01, ...,\n",
       "        -8.85119522e-01, -1.86702275e-03,  7.61718206e-01],\n",
       "       ...,\n",
       "       [-9.25785238e-01,  1.81049007e+00,  4.81547378e-01, ...,\n",
       "         8.33264538e-01, -8.27837320e-01, -1.21157284e-01],\n",
       "       [-2.33621138e+00,  6.57801768e-01, -9.68613095e-01, ...,\n",
       "         1.24891153e+00,  2.70654172e-01,  3.05931345e-01],\n",
       "       [-5.56043634e-01,  4.00163541e-01, -1.00831119e+00, ...,\n",
       "        -8.28704005e-01,  3.48017472e-01,  5.04361287e-01]])"
      ]
     },
     "execution_count": 10,
     "metadata": {},
     "output_type": "execute_result"
    }
   ],
   "source": [
    "pca_sklearn.fit(df.values)"
   ]
  },
  {
   "cell_type": "code",
   "execution_count": 11,
   "metadata": {
    "scrolled": true
   },
   "outputs": [
    {
     "data": {
      "text/plain": [
       "(17, 11)"
      ]
     },
     "execution_count": 11,
     "metadata": {},
     "output_type": "execute_result"
    }
   ],
   "source": [
    "pca_sklearn.components.shape"
   ]
  }
 ],
 "metadata": {
  "kernelspec": {
   "display_name": "Python 3 (ipykernel)",
   "language": "python",
   "name": "python3"
  },
  "language_info": {
   "codemirror_mode": {
    "name": "ipython",
    "version": 3
   },
   "file_extension": ".py",
   "mimetype": "text/x-python",
   "name": "python",
   "nbconvert_exporter": "python",
   "pygments_lexer": "ipython3",
   "version": "3.7.16"
  }
 },
 "nbformat": 4,
 "nbformat_minor": 2
}
